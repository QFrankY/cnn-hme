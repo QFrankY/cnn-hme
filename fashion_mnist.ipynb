{
  "nbformat": 4,
  "nbformat_minor": 0,
  "metadata": {
    "colab": {
      "name": "fashion.ipynb",
      "version": "0.3.2",
      "provenance": [],
      "collapsed_sections": []
    },
    "kernelspec": {
      "name": "python3",
      "display_name": "Python 3"
    },
    "accelerator": "GPU"
  },
  "cells": [
    {
      "cell_type": "markdown",
      "metadata": {
        "id": "drTZIgeuA4S7",
        "colab_type": "text"
      },
      "source": [
        "#Fashion Dataset"
      ]
    },
    {
      "cell_type": "code",
      "metadata": {
        "id": "LymKH3tAeIN9",
        "colab_type": "code",
        "outputId": "4e796df6-bbed-463d-db33-6de61f2107ab",
        "colab": {
          "base_uri": "https://localhost:8080/",
          "height": 161
        }
      },
      "source": [
        "import tensorflow as tf\n",
        "import tensorflow.contrib.eager as tfe\n",
        "import tensorflow.keras as keras\n",
        "\n",
        "import numpy as np\n",
        "import pandas as pd\n",
        "import matplotlib.pyplot as plt\n",
        "\n",
        "from sklearn.model_selection import train_test_split\n",
        "\n",
        "%matplotlib inline\n",
        "\n",
        "!pip install ipython-autotime\n",
        "%load_ext autotime"
      ],
      "execution_count": 0,
      "outputs": [
        {
          "output_type": "stream",
          "text": [
            "Collecting ipython-autotime\n",
            "  Downloading https://files.pythonhosted.org/packages/e6/f9/0626bbdb322e3a078d968e87e3b01341e7890544de891d0cb613641220e6/ipython-autotime-0.1.tar.bz2\n",
            "Building wheels for collected packages: ipython-autotime\n",
            "  Building wheel for ipython-autotime (setup.py) ... \u001b[?25ldone\n",
            "\u001b[?25h  Stored in directory: /root/.cache/pip/wheels/d2/df/81/2db1e54bc91002cec40334629bc39cfa86dff540b304ebcd6e\n",
            "Successfully built ipython-autotime\n",
            "Installing collected packages: ipython-autotime\n",
            "Successfully installed ipython-autotime-0.1\n"
          ],
          "name": "stdout"
        }
      ]
    },
    {
      "cell_type": "markdown",
      "metadata": {
        "id": "TJZaZD00Kkfe",
        "colab_type": "text"
      },
      "source": [
        "### Acquiring Fashion Dataset"
      ]
    },
    {
      "cell_type": "code",
      "metadata": {
        "id": "xWCSC8y0KlM2",
        "colab_type": "code",
        "outputId": "694d568b-4cb1-491a-e298-ca57b04b7d37",
        "colab": {
          "base_uri": "https://localhost:8080/",
          "height": 197
        }
      },
      "source": [
        "### Acquiring Kimia Lab Histopathology Image Dataset\n",
        "from keras.datasets import fashion_mnist\n",
        "\n",
        "(x_train, y_train), (x_test, y_test) = fashion_mnist.load_data()"
      ],
      "execution_count": 0,
      "outputs": [
        {
          "output_type": "stream",
          "text": [
            "Using TensorFlow backend.\n"
          ],
          "name": "stderr"
        },
        {
          "output_type": "stream",
          "text": [
            "Downloading data from http://fashion-mnist.s3-website.eu-central-1.amazonaws.com/train-labels-idx1-ubyte.gz\n",
            "32768/29515 [=================================] - 0s 3us/step\n",
            "Downloading data from http://fashion-mnist.s3-website.eu-central-1.amazonaws.com/train-images-idx3-ubyte.gz\n",
            "26427392/26421880 [==============================] - 1s 0us/step\n",
            "Downloading data from http://fashion-mnist.s3-website.eu-central-1.amazonaws.com/t10k-labels-idx1-ubyte.gz\n",
            "8192/5148 [===============================================] - 0s 0us/step\n",
            "Downloading data from http://fashion-mnist.s3-website.eu-central-1.amazonaws.com/t10k-images-idx3-ubyte.gz\n",
            "4423680/4422102 [==============================] - 1s 0us/step\n",
            "time: 3.92 s\n"
          ],
          "name": "stdout"
        }
      ]
    },
    {
      "cell_type": "code",
      "metadata": {
        "id": "SCJbyKXHnFXM",
        "colab_type": "code",
        "outputId": "deee8672-462b-486c-9f6a-b5ad05cdd128",
        "colab": {
          "base_uri": "https://localhost:8080/",
          "height": 270
        }
      },
      "source": [
        "# Checking distribution of labels\n",
        "Label_map = {}\n",
        "for i, y in enumerate(y_train):\n",
        "  if y in Label_map:\n",
        "    Label_map[y].append(i)\n",
        "  else:\n",
        "    Label_map[y] = [i]\n",
        "\n",
        "# View 12 random images with specific label\n",
        "rows = 2\n",
        "columns = 5\n",
        "scale_factor = 15\n",
        "\n",
        "def ShowImages():\n",
        "  # Doesn't actually shuffle the training set\n",
        "  figsize_x = x_train[0].shape[1] * columns / scale_factor\n",
        "  figsize_y = x_train[0].shape[0] * rows / scale_factor\n",
        "  fig = plt.figure(figsize=(figsize_x, figsize_y))\n",
        "  for i in range(1, columns*rows +1):\n",
        "    np.random.shuffle(Label_map[i - 1])\n",
        "    fig.add_subplot(rows, columns, i)\n",
        "    img_index = Label_map[i - 1][0]\n",
        "    plt.imshow(x_train[img_index], cmap='gray')\n",
        "  plt.show()\n",
        "\n",
        "ShowImages()"
      ],
      "execution_count": 0,
      "outputs": [
        {
          "output_type": "display_data",
          "data": {
            "image/png": "[encoded data removed]",
            "text/plain": [
              "<Figure size 672x268.8 with 10 Axes>"
            ]
          },
          "metadata": {
            "tags": []
          }
        },
        {
          "output_type": "stream",
          "text": [
            "time: 970 ms\n"
          ],
          "name": "stdout"
        }
      ]
    },
    {
      "cell_type": "code",
      "metadata": {
        "id": "hfrF-ec-oFFo",
        "colab_type": "code",
        "outputId": "d11bcce4-988a-4870-b231-3be6c0b1d283",
        "colab": {
          "base_uri": "https://localhost:8080/",
          "height": 215
        }
      },
      "source": [
        "for i in range(0, 10):\n",
        "  print(len(Label_map.get(i)))"
      ],
      "execution_count": 0,
      "outputs": [
        {
          "output_type": "stream",
          "text": [
            "6000\n",
            "6000\n",
            "6000\n",
            "6000\n",
            "6000\n",
            "6000\n",
            "6000\n",
            "6000\n",
            "6000\n",
            "6000\n",
            "time: 2.2 ms\n"
          ],
          "name": "stdout"
        }
      ]
    },
    {
      "cell_type": "code",
      "metadata": {
        "id": "kiRWy9_VuchV",
        "colab_type": "code",
        "outputId": "c8de9245-4068-4811-f1c3-fa7222117c37",
        "colab": {
          "base_uri": "https://localhost:8080/",
          "height": 71
        }
      },
      "source": [
        "def convertOneHot(labels, num_classes):\n",
        "  return np.array([np.eye(num_classes)[label] for label in labels])\n",
        "\n",
        "# Normalize images and add channel axis\n",
        "X_train = (x_train/255)[..., np.newaxis] \n",
        "X_test = (x_test/255)[..., np.newaxis] \n",
        "\n",
        "# Convert labels to one hot\n",
        "num_classes = max(y_train) + 1\n",
        "Classes = np.unique(y_train)\n",
        "Y_train = convertOneHot(y_train, num_classes)\n",
        "Y_test = convertOneHot(y_test, num_classes)\n",
        "\n",
        "print(X_train.shape)\n",
        "print(Y_train.shape)"
      ],
      "execution_count": 0,
      "outputs": [
        {
          "output_type": "stream",
          "text": [
            "(60000, 28, 28, 1)\n",
            "(60000, 10)\n",
            "time: 617 ms\n"
          ],
          "name": "stdout"
        }
      ]
    },
    {
      "cell_type": "markdown",
      "metadata": {
        "id": "sFrUrwJlQbgs",
        "colab_type": "text"
      },
      "source": [
        "# Single Classifier"
      ]
    },
    {
      "cell_type": "code",
      "metadata": {
        "id": "nXNtxFP4LLFp",
        "colab_type": "code",
        "outputId": "67f47bf5-28ea-401c-aa05-5dc185f24f6a",
        "colab": {
          "base_uri": "https://localhost:8080/",
          "height": 35
        }
      },
      "source": [
        "def build_and_train(x_train, y_train, model=None, epochs=25):\n",
        "  # Randomly break off data for validation\n",
        "  x_t, x_v, y_t, y_v = train_test_split(x_train, y_train)\n",
        "  \n",
        "  # Performing image augmentations\n",
        "  # Augment test images\n",
        "  train_datagen = keras.preprocessing.image.ImageDataGenerator(\n",
        "      horizontal_flip=True,\n",
        "  )\n",
        "\n",
        "  if model == None:\n",
        "    model = keras.Sequential([\n",
        "        keras.layers.Conv2D(32, (3, 3), activation='relu', input_shape=x_train[0].shape),\n",
        "        keras.layers.Conv2D(32, (3, 3), activation='relu'),\n",
        "        keras.layers.BatchNormalization(momentum=0.1),\n",
        "        keras.layers.MaxPool2D((2, 2)),\n",
        "\n",
        "        keras.layers.Conv2D(64, (3, 3), activation='relu'),\n",
        "        keras.layers.BatchNormalization(momentum=0.1),\n",
        "        keras.layers.MaxPool2D((2, 2)),\n",
        "\n",
        "        keras.layers.Conv2D(128, (3, 3), activation='relu'),\n",
        "        keras.layers.MaxPool2D((2, 2)),\n",
        "\n",
        "        keras.layers.Flatten(),\n",
        "        keras.layers.Dense(128, activation='relu'),\n",
        "        keras.layers.Dropout(rate=0.25),\n",
        "        keras.layers.Dense(64, activation='relu'),\n",
        "        keras.layers.Dense(y_train[0].shape[0]),\n",
        "    ]);\n",
        "  \n",
        "  # Training model\n",
        "  Best_model = 'best_model.h5'\n",
        "  \n",
        "  optimizer = tf.train.AdamOptimizer()\n",
        "  model.compile(optimizer=optimizer, loss=tf.losses.softmax_cross_entropy, metrics=['accuracy'])\n",
        "\n",
        "  # Set callback functions to early stop training and save the best model so far\n",
        "  callbacks = [keras.callbacks.ModelCheckpoint(filepath=Best_model, monitor='val_acc', save_best_only=True)]\n",
        "  \n",
        "  model.fit_generator(\n",
        "    train_datagen.flow(x_t, y_t, batch_size=32),\n",
        "    steps_per_epoch=len(x_t) / 16,\n",
        "    epochs=epochs,\n",
        "    validation_data=(x_v, y_v),\n",
        "    callbacks=callbacks,\n",
        "  )\n",
        "  \n",
        "  best = keras.models.load_model(Best_model)\n",
        "  best.compile(optimizer=optimizer, loss=tf.losses.softmax_cross_entropy, metrics=['accuracy'])\n",
        "  return best"
      ],
      "execution_count": 0,
      "outputs": [
        {
          "output_type": "stream",
          "text": [
            "time: 27.1 ms\n"
          ],
          "name": "stdout"
        }
      ]
    },
    {
      "cell_type": "code",
      "metadata": {
        "id": "HHjau4jgsnhT",
        "colab_type": "code",
        "outputId": "23bf1f45-ea5e-4bc2-8fa6-85573984a422",
        "colab": {
          "base_uri": "https://localhost:8080/",
          "height": 1729
        }
      },
      "source": [
        "best = build_and_train(X_train, Y_train)\n",
        "\n",
        "# Evaluate models\n",
        "results = best.evaluate(X_test, Y_test)\n",
        "print(best.metrics_names)\n",
        "print(results)"
      ],
      "execution_count": 0,
      "outputs": [
        {
          "output_type": "stream",
          "text": [
            "Epoch 1/25\n",
            "15000/15000 [==============================] - 2s 152us/sample - loss: 0.3801 - acc: 0.8612\n",
            "WARNING:tensorflow:TensorFlow optimizers do not make it possible to access optimizer attributes or optimizer state after instantiation. As a result, we cannot save the optimizer as part of the model save file.You will have to compile your model again after loading it. Prefer using a Keras optimizer instead (see keras.io/optimizers).\n",
            "1407/1407 [==============================] - 14s 10ms/step - loss: 0.5515 - acc: 0.7992 - val_loss: 0.3800 - val_acc: 0.8612\n",
            "Epoch 2/25\n",
            "15000/15000 [==============================] - 2s 135us/sample - loss: 0.3608 - acc: 0.8679\n",
            "WARNING:tensorflow:TensorFlow optimizers do not make it possible to access optimizer attributes or optimizer state after instantiation. As a result, we cannot save the optimizer as part of the model save file.You will have to compile your model again after loading it. Prefer using a Keras optimizer instead (see keras.io/optimizers).\n",
            "1407/1407 [==============================] - 12s 9ms/step - loss: 0.3714 - acc: 0.8660 - val_loss: 0.3608 - val_acc: 0.8679\n",
            "Epoch 3/25\n",
            "15000/15000 [==============================] - 2s 134us/sample - loss: 0.3253 - acc: 0.8821\n",
            "WARNING:tensorflow:TensorFlow optimizers do not make it possible to access optimizer attributes or optimizer state after instantiation. As a result, we cannot save the optimizer as part of the model save file.You will have to compile your model again after loading it. Prefer using a Keras optimizer instead (see keras.io/optimizers).\n",
            "1407/1407 [==============================] - 12s 9ms/step - loss: 0.3255 - acc: 0.8829 - val_loss: 0.3253 - val_acc: 0.8821\n",
            "Epoch 4/25\n",
            "15000/15000 [==============================] - 2s 134us/sample - loss: 0.2966 - acc: 0.8917\n",
            "WARNING:tensorflow:TensorFlow optimizers do not make it possible to access optimizer attributes or optimizer state after instantiation. As a result, we cannot save the optimizer as part of the model save file.You will have to compile your model again after loading it. Prefer using a Keras optimizer instead (see keras.io/optimizers).\n",
            "1407/1407 [==============================] - 12s 8ms/step - loss: 0.2981 - acc: 0.8935 - val_loss: 0.2965 - val_acc: 0.8917\n",
            "Epoch 5/25\n",
            "15000/15000 [==============================] - 2s 154us/sample - loss: 0.3021 - acc: 0.8921\n",
            "WARNING:tensorflow:TensorFlow optimizers do not make it possible to access optimizer attributes or optimizer state after instantiation. As a result, we cannot save the optimizer as part of the model save file.You will have to compile your model again after loading it. Prefer using a Keras optimizer instead (see keras.io/optimizers).\n",
            "1407/1407 [==============================] - 13s 9ms/step - loss: 0.2756 - acc: 0.9007 - val_loss: 0.3020 - val_acc: 0.8921\n",
            "Epoch 6/25\n",
            "15000/15000 [==============================] - 2s 142us/sample - loss: 0.2862 - acc: 0.8953\n",
            "WARNING:tensorflow:TensorFlow optimizers do not make it possible to access optimizer attributes or optimizer state after instantiation. As a result, we cannot save the optimizer as part of the model save file.You will have to compile your model again after loading it. Prefer using a Keras optimizer instead (see keras.io/optimizers).\n",
            "1407/1407 [==============================] - 12s 9ms/step - loss: 0.2600 - acc: 0.9057 - val_loss: 0.2862 - val_acc: 0.8953\n",
            "Epoch 7/25\n",
            "15000/15000 [==============================] - 2s 135us/sample - loss: 0.2693 - acc: 0.9015\n",
            "WARNING:tensorflow:TensorFlow optimizers do not make it possible to access optimizer attributes or optimizer state after instantiation. As a result, we cannot save the optimizer as part of the model save file.You will have to compile your model again after loading it. Prefer using a Keras optimizer instead (see keras.io/optimizers).\n",
            "1407/1407 [==============================] - 13s 9ms/step - loss: 0.2453 - acc: 0.9112 - val_loss: 0.2692 - val_acc: 0.9015\n",
            "Epoch 8/25\n",
            "15000/15000 [==============================] - 2s 136us/sample - loss: 0.2630 - acc: 0.9066\n",
            "WARNING:tensorflow:TensorFlow optimizers do not make it possible to access optimizer attributes or optimizer state after instantiation. As a result, we cannot save the optimizer as part of the model save file.You will have to compile your model again after loading it. Prefer using a Keras optimizer instead (see keras.io/optimizers).\n",
            "1407/1407 [==============================] - 12s 9ms/step - loss: 0.2385 - acc: 0.9144 - val_loss: 0.2630 - val_acc: 0.9066\n",
            "Epoch 9/25\n",
            "15000/15000 [==============================] - 2s 132us/sample - loss: 0.2550 - acc: 0.9079\n",
            "WARNING:tensorflow:TensorFlow optimizers do not make it possible to access optimizer attributes or optimizer state after instantiation. As a result, we cannot save the optimizer as part of the model save file.You will have to compile your model again after loading it. Prefer using a Keras optimizer instead (see keras.io/optimizers).\n",
            "1407/1407 [==============================] - 12s 8ms/step - loss: 0.2260 - acc: 0.9180 - val_loss: 0.2549 - val_acc: 0.9079\n",
            "Epoch 10/25\n",
            "15000/15000 [==============================] - 2s 130us/sample - loss: 0.2786 - acc: 0.9045\n",
            "1407/1407 [==============================] - 12s 8ms/step - loss: 0.2137 - acc: 0.9224 - val_loss: 0.2785 - val_acc: 0.9045\n",
            "Epoch 11/25\n",
            "15000/15000 [==============================] - 2s 140us/sample - loss: 0.2565 - acc: 0.9089\n",
            "WARNING:tensorflow:TensorFlow optimizers do not make it possible to access optimizer attributes or optimizer state after instantiation. As a result, we cannot save the optimizer as part of the model save file.You will have to compile your model again after loading it. Prefer using a Keras optimizer instead (see keras.io/optimizers).\n",
            "1407/1407 [==============================] - 12s 9ms/step - loss: 0.2037 - acc: 0.9250 - val_loss: 0.2564 - val_acc: 0.9089\n",
            "Epoch 12/25\n",
            "15000/15000 [==============================] - 2s 133us/sample - loss: 0.2724 - acc: 0.9066\n",
            "1407/1407 [==============================] - 13s 9ms/step - loss: 0.1974 - acc: 0.9287 - val_loss: 0.2723 - val_acc: 0.9066\n",
            "Epoch 13/25\n",
            "15000/15000 [==============================] - 2s 131us/sample - loss: 0.2586 - acc: 0.9103\n",
            "WARNING:tensorflow:TensorFlow optimizers do not make it possible to access optimizer attributes or optimizer state after instantiation. As a result, we cannot save the optimizer as part of the model save file.You will have to compile your model again after loading it. Prefer using a Keras optimizer instead (see keras.io/optimizers).\n",
            "1407/1407 [==============================] - 12s 8ms/step - loss: 0.1880 - acc: 0.9310 - val_loss: 0.2586 - val_acc: 0.9103\n",
            "Epoch 14/25\n",
            "15000/15000 [==============================] - 2s 134us/sample - loss: 0.2604 - acc: 0.9096\n",
            "1407/1407 [==============================] - 12s 8ms/step - loss: 0.1829 - acc: 0.9333 - val_loss: 0.2603 - val_acc: 0.9096\n",
            "Epoch 15/25\n",
            "15000/15000 [==============================] - 2s 134us/sample - loss: 0.2547 - acc: 0.9107\n",
            "WARNING:tensorflow:TensorFlow optimizers do not make it possible to access optimizer attributes or optimizer state after instantiation. As a result, we cannot save the optimizer as part of the model save file.You will have to compile your model again after loading it. Prefer using a Keras optimizer instead (see keras.io/optimizers).\n",
            "1407/1407 [==============================] - 12s 9ms/step - loss: 0.1747 - acc: 0.9364 - val_loss: 0.2546 - val_acc: 0.9107\n",
            "Epoch 16/25\n",
            "15000/15000 [==============================] - 2s 136us/sample - loss: 0.2669 - acc: 0.9107\n",
            "1407/1407 [==============================] - 12s 9ms/step - loss: 0.1703 - acc: 0.9378 - val_loss: 0.2668 - val_acc: 0.9107\n",
            "Epoch 17/25\n",
            "15000/15000 [==============================] - 2s 134us/sample - loss: 0.2604 - acc: 0.9108\n",
            "WARNING:tensorflow:TensorFlow optimizers do not make it possible to access optimizer attributes or optimizer state after instantiation. As a result, we cannot save the optimizer as part of the model save file.You will have to compile your model again after loading it. Prefer using a Keras optimizer instead (see keras.io/optimizers).\n",
            "1407/1407 [==============================] - 12s 8ms/step - loss: 0.1674 - acc: 0.9380 - val_loss: 0.2604 - val_acc: 0.9108\n",
            "Epoch 18/25\n",
            "15000/15000 [==============================] - 2s 153us/sample - loss: 0.2750 - acc: 0.9065\n",
            "1407/1407 [==============================] - 13s 9ms/step - loss: 0.1575 - acc: 0.9420 - val_loss: 0.2750 - val_acc: 0.9065\n",
            "Epoch 19/25\n",
            "15000/15000 [==============================] - 2s 134us/sample - loss: 0.2596 - acc: 0.9157\n",
            "WARNING:tensorflow:TensorFlow optimizers do not make it possible to access optimizer attributes or optimizer state after instantiation. As a result, we cannot save the optimizer as part of the model save file.You will have to compile your model again after loading it. Prefer using a Keras optimizer instead (see keras.io/optimizers).\n",
            "1407/1407 [==============================] - 13s 9ms/step - loss: 0.1532 - acc: 0.9434 - val_loss: 0.2596 - val_acc: 0.9157\n",
            "Epoch 20/25\n",
            "15000/15000 [==============================] - 2s 133us/sample - loss: 0.2726 - acc: 0.9127\n",
            "1407/1407 [==============================] - 12s 8ms/step - loss: 0.1474 - acc: 0.9458 - val_loss: 0.2726 - val_acc: 0.9127\n",
            "Epoch 21/25\n",
            "15000/15000 [==============================] - 2s 135us/sample - loss: 0.2765 - acc: 0.9117\n",
            "1407/1407 [==============================] - 12s 9ms/step - loss: 0.1423 - acc: 0.9472 - val_loss: 0.2765 - val_acc: 0.9117\n",
            "Epoch 22/25\n",
            "15000/15000 [==============================] - 2s 134us/sample - loss: 0.2750 - acc: 0.9129\n",
            "1407/1407 [==============================] - 12s 8ms/step - loss: 0.1372 - acc: 0.9495 - val_loss: 0.2750 - val_acc: 0.9129\n",
            "Epoch 23/25\n",
            "15000/15000 [==============================] - 2s 135us/sample - loss: 0.2745 - acc: 0.9125\n",
            "1407/1407 [==============================] - 12s 9ms/step - loss: 0.1364 - acc: 0.9496 - val_loss: 0.2744 - val_acc: 0.9125\n",
            "Epoch 24/25\n",
            "15000/15000 [==============================] - 2s 133us/sample - loss: 0.2871 - acc: 0.9135\n",
            "1407/1407 [==============================] - 14s 10ms/step - loss: 0.1291 - acc: 0.9525 - val_loss: 0.2871 - val_acc: 0.9135\n",
            "Epoch 25/25\n",
            "15000/15000 [==============================] - 2s 134us/sample - loss: 0.3122 - acc: 0.9153\n",
            "1407/1407 [==============================] - 13s 9ms/step - loss: 0.1239 - acc: 0.9543 - val_loss: 0.3124 - val_acc: 0.9153\n",
            "WARNING:tensorflow:No training configuration found in save file: the model was *not* compiled. Compile it manually.\n",
            "10000/10000 [==============================] - 1s 126us/sample - loss: 0.3076 - acc: 0.9051\n",
            "['loss', 'acc']\n",
            "[0.3075728793114424, 0.9051]\n",
            "time: 5min 16s\n"
          ],
          "name": "stdout"
        }
      ]
    },
    {
      "cell_type": "code",
      "metadata": {
        "id": "074s5bxEtHpp",
        "colab_type": "code",
        "outputId": "3ee1a376-8660-439d-ce36-2a5a1885f865",
        "colab": {
          "base_uri": "https://localhost:8080/",
          "height": 513
        }
      },
      "source": [
        "from sklearn.metrics import confusion_matrix\n",
        "from sklearn.utils.multiclass import unique_labels\n",
        "\n",
        "def plot_confusion_matrix(y_true, y_pred, classes,\n",
        "                          normalize=False,\n",
        "                          title=None,\n",
        "                          cmap=plt.cm.Blues):\n",
        "    \"\"\"\n",
        "    This function prints and plots the confusion matrix.\n",
        "    Normalization can be applied by setting `normalize=True`.\n",
        "    \"\"\"\n",
        "    if not title:\n",
        "        if normalize:\n",
        "            title = 'Normalized confusion matrix'\n",
        "        else:\n",
        "            title = 'Confusion matrix, without normalization'\n",
        "\n",
        "    # Compute confusion matrix\n",
        "    cm = confusion_matrix(y_true, y_pred)\n",
        "    # Only use the labels that appear in the data\n",
        "    classes = classes[unique_labels(y_true, y_pred)]\n",
        "    if normalize:\n",
        "        cm = cm.astype('float') / cm.sum(axis=1)[:, np.newaxis]\n",
        "        print(\"Normalized confusion matrix\")\n",
        "    else:\n",
        "        print('Confusion matrix, without normalization')\n",
        "\n",
        "    print(cm)\n",
        "\n",
        "    fig, ax = plt.subplots()\n",
        "    im = ax.imshow(cm, interpolation='nearest', cmap=cmap)\n",
        "    ax.figure.colorbar(im, ax=ax)\n",
        "    # We want to show all ticks...\n",
        "    ax.set(xticks=np.arange(cm.shape[1]),\n",
        "           yticks=np.arange(cm.shape[0]),\n",
        "           # ... and label them with the respective list entries\n",
        "           xticklabels=classes, yticklabels=classes,\n",
        "           title=title,\n",
        "           ylabel='True label',\n",
        "           xlabel='Predicted label')\n",
        "\n",
        "    # Rotate the tick labels and set their alignment.\n",
        "    plt.setp(ax.get_xticklabels(), rotation=45, ha=\"right\",\n",
        "             rotation_mode=\"anchor\")\n",
        "\n",
        "    # Loop over data dimensions and create text annotations.\n",
        "    fmt = '.2f' if normalize else 'd'\n",
        "    thresh = cm.max() / 2.\n",
        "    for i in range(cm.shape[0]):\n",
        "        for j in range(cm.shape[1]):\n",
        "            ax.text(j, i, format(cm[i, j], fmt),\n",
        "                    ha=\"center\", va=\"center\",\n",
        "                    color=\"white\" if cm[i, j] > thresh else \"black\")\n",
        "    fig.tight_layout()\n",
        "    return ax\n",
        "  \n",
        "Y_pred = best.predict(X_test, batch_size=1)\n",
        "plot_confusion_matrix(np.argmax(Y_test, axis=1), np.argmax(Y_pred, axis=1), Classes)\n",
        "\n",
        "plt.show()"
      ],
      "execution_count": 0,
      "outputs": [
        {
          "output_type": "stream",
          "text": [
            "Confusion matrix, without normalization\n",
            "[[847   3  31  15   5   1  92   0   6   0]\n",
            " [  0 972   2  17   2   0   5   0   2   0]\n",
            " [ 11   0 883   6  51   0  47   0   2   0]\n",
            " [ 10   2  25 901  28   0  29   0   4   1]\n",
            " [  0   0  45  24 885   0  44   0   2   0]\n",
            " [  0   0   0   1   0 955   0  26   0  18]\n",
            " [ 95   1  88  15  92   0 700   0   9   0]\n",
            " [  0   0   0   0   0   5   0 975   0  20]\n",
            " [  2   0   2   4   7   4   4   1 975   1]\n",
            " [  0   0   0   0   0   6   0  36   0 958]]\n"
          ],
          "name": "stdout"
        },
        {
          "output_type": "display_data",
          "data": {
            "image/png": "[encoded data removed]",
            "text/plain": [
              "<Figure size 432x288 with 2 Axes>"
            ]
          },
          "metadata": {
            "tags": []
          }
        },
        {
          "output_type": "stream",
          "text": [
            "time: 19.1 s\n"
          ],
          "name": "stdout"
        }
      ]
    },
    {
      "cell_type": "markdown",
      "metadata": {
        "id": "4zfK3m6Xy6KU",
        "colab_type": "text"
      },
      "source": [
        "# Classifier Tree"
      ]
    },
    {
      "cell_type": "code",
      "metadata": {
        "id": "1OEWlfBecEWO",
        "colab_type": "code",
        "outputId": "888b0c87-bfc3-4a84-c38f-338e42db7431",
        "colab": {
          "base_uri": "https://localhost:8080/",
          "height": 35
        }
      },
      "source": [
        "def buildClassDict(class_groups):\n",
        "  class_dict = {}\n",
        "  for i, group in enumerate(class_groups):\n",
        "    for val in group:\n",
        "      class_dict[val] = i\n",
        "  return class_dict\n",
        "\n",
        "def remapAndFilter(data, labels, class_dict, class_groups):\n",
        "  new_labels = []\n",
        "  new_data = []\n",
        "  for idx, label in enumerate(labels):\n",
        "    if label in class_dict:\n",
        "      new_label = class_dict[label]\n",
        "      new_labels.append(new_label)\n",
        "      new_data.append(data[idx])\n",
        "  \n",
        "  return np.array(new_data), convertOneHot(new_labels, len(class_groups))"
      ],
      "execution_count": 0,
      "outputs": [
        {
          "output_type": "stream",
          "text": [
            "time: 9.04 ms\n"
          ],
          "name": "stdout"
        }
      ]
    },
    {
      "cell_type": "code",
      "metadata": {
        "colab_type": "code",
        "outputId": "cdc818e7-b726-4591-c8aa-8f5d01ed2f75",
        "id": "EY7pixXZIaBf",
        "colab": {
          "base_uri": "https://localhost:8080/",
          "height": 1639
        }
      },
      "source": [
        "Class_groups = [[0, 1, 2, 3, 4, 6], [5, 7, 9], [8]]\n",
        "Class_dict = buildClassDict(Class_groups)\n",
        "\n",
        "remapped_x_train, remapped_y_train = remapAndFilter(X_train, y_train, Class_dict, Class_groups)\n",
        "remapped_x_test, remapped_y_test = remapAndFilter(X_test, y_test, Class_dict, Class_groups)\n",
        "\n",
        "root = build_and_train(remapped_x_train, remapped_y_train)\n",
        "\n",
        "# Evaluate model\n",
        "results = root.evaluate(remapped_x_test, remapped_y_test)\n",
        "print(root.metrics_names)\n",
        "print(results)"
      ],
      "execution_count": 0,
      "outputs": [
        {
          "output_type": "stream",
          "text": [
            "Epoch 1/25\n",
            "15000/15000 [==============================] - 3s 175us/sample - loss: 0.0605 - acc: 0.9857\n",
            "WARNING:tensorflow:TensorFlow optimizers do not make it possible to access optimizer attributes or optimizer state after instantiation. As a result, we cannot save the optimizer as part of the model save file.You will have to compile your model again after loading it. Prefer using a Keras optimizer instead (see keras.io/optimizers).\n",
            "1407/1407 [==============================] - 17s 12ms/step - loss: 0.0530 - acc: 0.9849 - val_loss: 0.0605 - val_acc: 0.9857\n",
            "Epoch 2/25\n",
            "15000/15000 [==============================] - 2s 146us/sample - loss: 0.0370 - acc: 0.9904\n",
            "WARNING:tensorflow:TensorFlow optimizers do not make it possible to access optimizer attributes or optimizer state after instantiation. As a result, we cannot save the optimizer as part of the model save file.You will have to compile your model again after loading it. Prefer using a Keras optimizer instead (see keras.io/optimizers).\n",
            "1407/1407 [==============================] - 13s 9ms/step - loss: 0.0290 - acc: 0.9922 - val_loss: 0.0370 - val_acc: 0.9904\n",
            "Epoch 3/25\n",
            "15000/15000 [==============================] - 2s 160us/sample - loss: 0.0263 - acc: 0.9926\n",
            "WARNING:tensorflow:TensorFlow optimizers do not make it possible to access optimizer attributes or optimizer state after instantiation. As a result, we cannot save the optimizer as part of the model save file.You will have to compile your model again after loading it. Prefer using a Keras optimizer instead (see keras.io/optimizers).\n",
            "1407/1407 [==============================] - 14s 10ms/step - loss: 0.0222 - acc: 0.9938 - val_loss: 0.0263 - val_acc: 0.9926\n",
            "Epoch 4/25\n",
            "15000/15000 [==============================] - 2s 146us/sample - loss: 0.0425 - acc: 0.9905\n",
            "1407/1407 [==============================] - 13s 9ms/step - loss: 0.0189 - acc: 0.9945 - val_loss: 0.0424 - val_acc: 0.9905\n",
            "Epoch 5/25\n",
            "15000/15000 [==============================] - 2s 146us/sample - loss: 0.0183 - acc: 0.9939\n",
            "WARNING:tensorflow:TensorFlow optimizers do not make it possible to access optimizer attributes or optimizer state after instantiation. As a result, we cannot save the optimizer as part of the model save file.You will have to compile your model again after loading it. Prefer using a Keras optimizer instead (see keras.io/optimizers).\n",
            "1407/1407 [==============================] - 13s 9ms/step - loss: 0.0174 - acc: 0.9956 - val_loss: 0.0183 - val_acc: 0.9939\n",
            "Epoch 6/25\n",
            "15000/15000 [==============================] - 2s 146us/sample - loss: 0.0202 - acc: 0.9934\n",
            "1407/1407 [==============================] - 13s 9ms/step - loss: 0.0162 - acc: 0.9956 - val_loss: 0.0202 - val_acc: 0.9934\n",
            "Epoch 7/25\n",
            "15000/15000 [==============================] - 2s 151us/sample - loss: 0.0239 - acc: 0.9937\n",
            "1407/1407 [==============================] - 13s 9ms/step - loss: 0.0141 - acc: 0.9960 - val_loss: 0.0239 - val_acc: 0.9937\n",
            "Epoch 8/25\n",
            "15000/15000 [==============================] - 2s 149us/sample - loss: 0.0337 - acc: 0.9914\n",
            "1407/1407 [==============================] - 13s 9ms/step - loss: 0.0122 - acc: 0.9966 - val_loss: 0.0337 - val_acc: 0.9914\n",
            "Epoch 9/25\n",
            "15000/15000 [==============================] - 3s 168us/sample - loss: 0.0190 - acc: 0.9940\n",
            "WARNING:tensorflow:TensorFlow optimizers do not make it possible to access optimizer attributes or optimizer state after instantiation. As a result, we cannot save the optimizer as part of the model save file.You will have to compile your model again after loading it. Prefer using a Keras optimizer instead (see keras.io/optimizers).\n",
            "1407/1407 [==============================] - 14s 10ms/step - loss: 0.0121 - acc: 0.9966 - val_loss: 0.0190 - val_acc: 0.9940\n",
            "Epoch 10/25\n",
            "15000/15000 [==============================] - 2s 147us/sample - loss: 0.0215 - acc: 0.9945\n",
            "WARNING:tensorflow:TensorFlow optimizers do not make it possible to access optimizer attributes or optimizer state after instantiation. As a result, we cannot save the optimizer as part of the model save file.You will have to compile your model again after loading it. Prefer using a Keras optimizer instead (see keras.io/optimizers).\n",
            "1407/1407 [==============================] - 13s 9ms/step - loss: 0.0109 - acc: 0.9968 - val_loss: 0.0215 - val_acc: 0.9945\n",
            "Epoch 11/25\n",
            "15000/15000 [==============================] - 2s 163us/sample - loss: 0.0281 - acc: 0.9938\n",
            "1407/1407 [==============================] - 13s 9ms/step - loss: 0.0101 - acc: 0.9970 - val_loss: 0.0281 - val_acc: 0.9938\n",
            "Epoch 12/25\n",
            "15000/15000 [==============================] - 2s 146us/sample - loss: 0.0235 - acc: 0.9941\n",
            "1407/1407 [==============================] - 14s 10ms/step - loss: 0.0100 - acc: 0.9973 - val_loss: 0.0235 - val_acc: 0.9941\n",
            "Epoch 13/25\n",
            "15000/15000 [==============================] - 2s 148us/sample - loss: 0.0173 - acc: 0.9954\n",
            "WARNING:tensorflow:TensorFlow optimizers do not make it possible to access optimizer attributes or optimizer state after instantiation. As a result, we cannot save the optimizer as part of the model save file.You will have to compile your model again after loading it. Prefer using a Keras optimizer instead (see keras.io/optimizers).\n",
            "1407/1407 [==============================] - 13s 9ms/step - loss: 0.0085 - acc: 0.9978 - val_loss: 0.0173 - val_acc: 0.9954\n",
            "Epoch 14/25\n",
            "15000/15000 [==============================] - 2s 148us/sample - loss: 0.0300 - acc: 0.9949\n",
            "1407/1407 [==============================] - 13s 9ms/step - loss: 0.0073 - acc: 0.9977 - val_loss: 0.0299 - val_acc: 0.9949\n",
            "Epoch 15/25\n",
            "15000/15000 [==============================] - 3s 168us/sample - loss: 0.0229 - acc: 0.9956\n",
            "WARNING:tensorflow:TensorFlow optimizers do not make it possible to access optimizer attributes or optimizer state after instantiation. As a result, we cannot save the optimizer as part of the model save file.You will have to compile your model again after loading it. Prefer using a Keras optimizer instead (see keras.io/optimizers).\n",
            "1407/1407 [==============================] - 14s 10ms/step - loss: 0.0079 - acc: 0.9980 - val_loss: 0.0229 - val_acc: 0.9956\n",
            "Epoch 16/25\n",
            "15000/15000 [==============================] - 2s 147us/sample - loss: 0.0214 - acc: 0.9951\n",
            "1407/1407 [==============================] - 13s 9ms/step - loss: 0.0069 - acc: 0.9978 - val_loss: 0.0214 - val_acc: 0.9951\n",
            "Epoch 17/25\n",
            "15000/15000 [==============================] - 2s 150us/sample - loss: 0.0194 - acc: 0.9955\n",
            "1407/1407 [==============================] - 13s 9ms/step - loss: 0.0095 - acc: 0.9976 - val_loss: 0.0194 - val_acc: 0.9955\n",
            "Epoch 18/25\n",
            "15000/15000 [==============================] - 2s 145us/sample - loss: 0.0284 - acc: 0.9923\n",
            "1407/1407 [==============================] - 14s 10ms/step - loss: 0.0061 - acc: 0.9984 - val_loss: 0.0284 - val_acc: 0.9923\n",
            "Epoch 19/25\n",
            "15000/15000 [==============================] - 2s 147us/sample - loss: 0.0267 - acc: 0.9953\n",
            "1407/1407 [==============================] - 13s 9ms/step - loss: 0.0072 - acc: 0.9980 - val_loss: 0.0267 - val_acc: 0.9953\n",
            "Epoch 20/25\n",
            "15000/15000 [==============================] - 2s 144us/sample - loss: 0.0236 - acc: 0.9947\n",
            "1407/1407 [==============================] - 13s 9ms/step - loss: 0.0054 - acc: 0.9986 - val_loss: 0.0236 - val_acc: 0.9947\n",
            "Epoch 21/25\n",
            "15000/15000 [==============================] - 3s 167us/sample - loss: 0.0237 - acc: 0.9953\n",
            "1407/1407 [==============================] - 14s 10ms/step - loss: 0.0052 - acc: 0.9987 - val_loss: 0.0236 - val_acc: 0.9953\n",
            "Epoch 22/25\n",
            "15000/15000 [==============================] - 2s 146us/sample - loss: 0.0220 - acc: 0.9950\n",
            "1407/1407 [==============================] - 13s 9ms/step - loss: 0.0062 - acc: 0.9982 - val_loss: 0.0220 - val_acc: 0.9950\n",
            "Epoch 23/25\n",
            "15000/15000 [==============================] - 2s 148us/sample - loss: 0.0242 - acc: 0.9955\n",
            "1407/1407 [==============================] - 13s 9ms/step - loss: 0.0071 - acc: 0.9984 - val_loss: 0.0242 - val_acc: 0.9955\n",
            "Epoch 24/25\n",
            "15000/15000 [==============================] - 2s 148us/sample - loss: 0.0216 - acc: 0.9957\n",
            "WARNING:tensorflow:TensorFlow optimizers do not make it possible to access optimizer attributes or optimizer state after instantiation. As a result, we cannot save the optimizer as part of the model save file.You will have to compile your model again after loading it. Prefer using a Keras optimizer instead (see keras.io/optimizers).\n",
            "1407/1407 [==============================] - 13s 9ms/step - loss: 0.0041 - acc: 0.9988 - val_loss: 0.0216 - val_acc: 0.9957\n",
            "Epoch 25/25\n",
            "15000/15000 [==============================] - 2s 148us/sample - loss: 0.0221 - acc: 0.9956\n",
            "1407/1407 [==============================] - 13s 9ms/step - loss: 0.0039 - acc: 0.9989 - val_loss: 0.0221 - val_acc: 0.9956\n",
            "WARNING:tensorflow:No training configuration found in save file: the model was *not* compiled. Compile it manually.\n",
            "10000/10000 [==============================] - 2s 151us/sample - loss: 0.0266 - acc: 0.9960\n",
            "['loss', 'acc']\n",
            "[0.026645247231987662, 0.996]\n",
            "time: 5min 47s\n"
          ],
          "name": "stdout"
        }
      ]
    },
    {
      "cell_type": "code",
      "metadata": {
        "id": "DeLeecPPG6e2",
        "colab_type": "code",
        "outputId": "bd389497-95ea-49a4-da13-991e449fe51e",
        "colab": {
          "base_uri": "https://localhost:8080/",
          "height": 1657
        }
      },
      "source": [
        "Cloth_groups = [[x] for x in Class_groups[0]]\n",
        "Cloth_dict = buildClassDict(Cloth_groups)\n",
        "\n",
        "remapped_x_train, remapped_y_train = remapAndFilter(X_train, y_train, Cloth_dict, Cloth_groups)\n",
        "remapped_x_test, remapped_y_test = remapAndFilter(X_test, y_test, Cloth_dict, Cloth_groups)\n",
        "\n",
        "cloth = build_and_train(remapped_x_train, remapped_y_train)\n",
        "\n",
        "# Evaluate model\n",
        "results = cloth.evaluate(remapped_x_test, remapped_y_test)\n",
        "print(cloth.metrics_names)\n",
        "print(results)"
      ],
      "execution_count": 0,
      "outputs": [
        {
          "output_type": "stream",
          "text": [
            "Epoch 1/25\n",
            "9000/9000 [==============================] - 2s 210us/sample - loss: 0.5090 - acc: 0.8073\n",
            "WARNING:tensorflow:TensorFlow optimizers do not make it possible to access optimizer attributes or optimizer state after instantiation. As a result, we cannot save the optimizer as part of the model save file.You will have to compile your model again after loading it. Prefer using a Keras optimizer instead (see keras.io/optimizers).\n",
            "844/844 [==============================] - 12s 14ms/step - loss: 0.6371 - acc: 0.7559 - val_loss: 0.5094 - val_acc: 0.8073\n",
            "Epoch 2/25\n",
            "9000/9000 [==============================] - 1s 143us/sample - loss: 0.4409 - acc: 0.8327\n",
            "WARNING:tensorflow:TensorFlow optimizers do not make it possible to access optimizer attributes or optimizer state after instantiation. As a result, we cannot save the optimizer as part of the model save file.You will have to compile your model again after loading it. Prefer using a Keras optimizer instead (see keras.io/optimizers).\n",
            "844/844 [==============================] - 8s 10ms/step - loss: 0.4593 - acc: 0.8268 - val_loss: 0.4422 - val_acc: 0.8327\n",
            "Epoch 3/25\n",
            "9000/9000 [==============================] - 1s 143us/sample - loss: 0.3965 - acc: 0.8518\n",
            "WARNING:tensorflow:TensorFlow optimizers do not make it possible to access optimizer attributes or optimizer state after instantiation. As a result, we cannot save the optimizer as part of the model save file.You will have to compile your model again after loading it. Prefer using a Keras optimizer instead (see keras.io/optimizers).\n",
            "844/844 [==============================] - 8s 9ms/step - loss: 0.4075 - acc: 0.8477 - val_loss: 0.3963 - val_acc: 0.8518\n",
            "Epoch 4/25\n",
            "9000/9000 [==============================] - 1s 144us/sample - loss: 0.3835 - acc: 0.8568\n",
            "WARNING:tensorflow:TensorFlow optimizers do not make it possible to access optimizer attributes or optimizer state after instantiation. As a result, we cannot save the optimizer as part of the model save file.You will have to compile your model again after loading it. Prefer using a Keras optimizer instead (see keras.io/optimizers).\n",
            "844/844 [==============================] - 8s 9ms/step - loss: 0.3740 - acc: 0.8594 - val_loss: 0.3831 - val_acc: 0.8568\n",
            "Epoch 5/25\n",
            "9000/9000 [==============================] - 1s 144us/sample - loss: 0.3856 - acc: 0.8560\n",
            "844/844 [==============================] - 8s 9ms/step - loss: 0.3457 - acc: 0.8723 - val_loss: 0.3852 - val_acc: 0.8560\n",
            "Epoch 6/25\n",
            "9000/9000 [==============================] - 1s 143us/sample - loss: 0.3816 - acc: 0.8572\n",
            "WARNING:tensorflow:TensorFlow optimizers do not make it possible to access optimizer attributes or optimizer state after instantiation. As a result, we cannot save the optimizer as part of the model save file.You will have to compile your model again after loading it. Prefer using a Keras optimizer instead (see keras.io/optimizers).\n",
            "844/844 [==============================] - 8s 9ms/step - loss: 0.3282 - acc: 0.8783 - val_loss: 0.3812 - val_acc: 0.8572\n",
            "Epoch 7/25\n",
            "9000/9000 [==============================] - 1s 144us/sample - loss: 0.3552 - acc: 0.8688\n",
            "WARNING:tensorflow:TensorFlow optimizers do not make it possible to access optimizer attributes or optimizer state after instantiation. As a result, we cannot save the optimizer as part of the model save file.You will have to compile your model again after loading it. Prefer using a Keras optimizer instead (see keras.io/optimizers).\n",
            "844/844 [==============================] - 8s 9ms/step - loss: 0.3072 - acc: 0.8854 - val_loss: 0.3549 - val_acc: 0.8688\n",
            "Epoch 8/25\n",
            "9000/9000 [==============================] - 1s 145us/sample - loss: 0.3481 - acc: 0.8739\n",
            "WARNING:tensorflow:TensorFlow optimizers do not make it possible to access optimizer attributes or optimizer state after instantiation. As a result, we cannot save the optimizer as part of the model save file.You will have to compile your model again after loading it. Prefer using a Keras optimizer instead (see keras.io/optimizers).\n",
            "844/844 [==============================] - 8s 9ms/step - loss: 0.2891 - acc: 0.8934 - val_loss: 0.3478 - val_acc: 0.8739\n",
            "Epoch 9/25\n",
            "9000/9000 [==============================] - 1s 143us/sample - loss: 0.3498 - acc: 0.8717\n",
            "844/844 [==============================] - 8s 9ms/step - loss: 0.2780 - acc: 0.8957 - val_loss: 0.3496 - val_acc: 0.8717\n",
            "Epoch 10/25\n",
            "9000/9000 [==============================] - 1s 141us/sample - loss: 0.3693 - acc: 0.8720\n",
            "844/844 [==============================] - 8s 9ms/step - loss: 0.2559 - acc: 0.9040 - val_loss: 0.3693 - val_acc: 0.8720\n",
            "Epoch 11/25\n",
            "9000/9000 [==============================] - 1s 150us/sample - loss: 0.3600 - acc: 0.8737\n",
            "844/844 [==============================] - 8s 9ms/step - loss: 0.2448 - acc: 0.9082 - val_loss: 0.3596 - val_acc: 0.8737\n",
            "Epoch 12/25\n",
            "9000/9000 [==============================] - 1s 163us/sample - loss: 0.3774 - acc: 0.8752\n",
            "WARNING:tensorflow:TensorFlow optimizers do not make it possible to access optimizer attributes or optimizer state after instantiation. As a result, we cannot save the optimizer as part of the model save file.You will have to compile your model again after loading it. Prefer using a Keras optimizer instead (see keras.io/optimizers).\n",
            "844/844 [==============================] - 9s 10ms/step - loss: 0.2355 - acc: 0.9118 - val_loss: 0.3767 - val_acc: 0.8752\n",
            "Epoch 13/25\n",
            "9000/9000 [==============================] - 1s 147us/sample - loss: 0.3831 - acc: 0.8770\n",
            "WARNING:tensorflow:TensorFlow optimizers do not make it possible to access optimizer attributes or optimizer state after instantiation. As a result, we cannot save the optimizer as part of the model save file.You will have to compile your model again after loading it. Prefer using a Keras optimizer instead (see keras.io/optimizers).\n",
            "844/844 [==============================] - 8s 9ms/step - loss: 0.2247 - acc: 0.9167 - val_loss: 0.3827 - val_acc: 0.8770\n",
            "Epoch 14/25\n",
            "9000/9000 [==============================] - 1s 164us/sample - loss: 0.3960 - acc: 0.8692\n",
            "844/844 [==============================] - 8s 9ms/step - loss: 0.2079 - acc: 0.9218 - val_loss: 0.3951 - val_acc: 0.8692\n",
            "Epoch 15/25\n",
            "9000/9000 [==============================] - 1s 144us/sample - loss: 0.4312 - acc: 0.8658\n",
            "844/844 [==============================] - 9s 10ms/step - loss: 0.1990 - acc: 0.9250 - val_loss: 0.4309 - val_acc: 0.8658\n",
            "Epoch 16/25\n",
            "9000/9000 [==============================] - 1s 141us/sample - loss: 0.4118 - acc: 0.8696\n",
            "844/844 [==============================] - 8s 9ms/step - loss: 0.1984 - acc: 0.9251 - val_loss: 0.4113 - val_acc: 0.8696\n",
            "Epoch 17/25\n",
            "9000/9000 [==============================] - 1s 144us/sample - loss: 0.3870 - acc: 0.8809\n",
            "WARNING:tensorflow:TensorFlow optimizers do not make it possible to access optimizer attributes or optimizer state after instantiation. As a result, we cannot save the optimizer as part of the model save file.You will have to compile your model again after loading it. Prefer using a Keras optimizer instead (see keras.io/optimizers).\n",
            "844/844 [==============================] - 8s 9ms/step - loss: 0.1887 - acc: 0.9296 - val_loss: 0.3864 - val_acc: 0.8809\n",
            "Epoch 18/25\n",
            "9000/9000 [==============================] - 1s 140us/sample - loss: 0.3972 - acc: 0.8763\n",
            "844/844 [==============================] - 8s 9ms/step - loss: 0.1750 - acc: 0.9335 - val_loss: 0.3964 - val_acc: 0.8763\n",
            "Epoch 19/25\n",
            "9000/9000 [==============================] - 1s 140us/sample - loss: 0.4269 - acc: 0.8741\n",
            "844/844 [==============================] - 8s 9ms/step - loss: 0.1654 - acc: 0.9367 - val_loss: 0.4262 - val_acc: 0.8741\n",
            "Epoch 20/25\n",
            "9000/9000 [==============================] - 1s 139us/sample - loss: 0.4410 - acc: 0.8718\n",
            "844/844 [==============================] - 8s 9ms/step - loss: 0.1632 - acc: 0.9380 - val_loss: 0.4400 - val_acc: 0.8718\n",
            "Epoch 21/25\n",
            "9000/9000 [==============================] - 1s 144us/sample - loss: 0.4499 - acc: 0.8687\n",
            "844/844 [==============================] - 7s 9ms/step - loss: 0.1521 - acc: 0.9430 - val_loss: 0.4492 - val_acc: 0.8687\n",
            "Epoch 22/25\n",
            "9000/9000 [==============================] - 1s 164us/sample - loss: 0.4684 - acc: 0.8763\n",
            "844/844 [==============================] - 8s 10ms/step - loss: 0.1450 - acc: 0.9446 - val_loss: 0.4672 - val_acc: 0.8763\n",
            "Epoch 23/25\n",
            "9000/9000 [==============================] - 1s 145us/sample - loss: 0.4434 - acc: 0.8779\n",
            "844/844 [==============================] - 8s 9ms/step - loss: 0.1409 - acc: 0.9487 - val_loss: 0.4425 - val_acc: 0.8779\n",
            "Epoch 24/25\n",
            "9000/9000 [==============================] - 1s 164us/sample - loss: 0.4712 - acc: 0.8718\n",
            "844/844 [==============================] - 8s 10ms/step - loss: 0.1375 - acc: 0.9498 - val_loss: 0.4704 - val_acc: 0.8718\n",
            "Epoch 25/25\n",
            "9000/9000 [==============================] - 1s 141us/sample - loss: 0.4714 - acc: 0.8743\n",
            "844/844 [==============================] - 8s 9ms/step - loss: 0.1358 - acc: 0.9513 - val_loss: 0.4703 - val_acc: 0.8743\n",
            "WARNING:tensorflow:No training configuration found in save file: the model was *not* compiled. Compile it manually.\n",
            "6000/6000 [==============================] - 1s 187us/sample - loss: 0.4039 - acc: 0.8733\n",
            "['loss', 'acc']\n",
            "[0.40392655112346015, 0.87333333]\n",
            "time: 3min 32s\n"
          ],
          "name": "stdout"
        }
      ]
    },
    {
      "cell_type": "code",
      "metadata": {
        "id": "yEecvgWCLm-l",
        "colab_type": "code",
        "outputId": "aedac943-9f97-4270-e2d5-6eaf01df79c9",
        "colab": {
          "base_uri": "https://localhost:8080/",
          "height": 1621
        }
      },
      "source": [
        "Shoes_groups = [[5], [7], [9]]\n",
        "Shoes_dict = buildClassDict(Shoes_groups)\n",
        "\n",
        "remapped_x_train, remapped_y_train = remapAndFilter(X_train, y_train, Shoes_dict, Shoes_groups)\n",
        "remapped_x_test, remapped_y_test = remapAndFilter(X_test, y_test, Shoes_dict, Shoes_groups)\n",
        "\n",
        "shoes = build_and_train(remapped_x_train, remapped_y_train)\n",
        "\n",
        "# Evaluate model\n",
        "results = shoes.evaluate(remapped_x_test, remapped_y_test)\n",
        "print(shoes.metrics_names)\n",
        "print(results)"
      ],
      "execution_count": 0,
      "outputs": [
        {
          "output_type": "stream",
          "text": [
            "Epoch 1/25\n",
            "4500/4500 [==============================] - 1s 257us/sample - loss: 0.1742 - acc: 0.9369\n",
            "WARNING:tensorflow:TensorFlow optimizers do not make it possible to access optimizer attributes or optimizer state after instantiation. As a result, we cannot save the optimizer as part of the model save file.You will have to compile your model again after loading it. Prefer using a Keras optimizer instead (see keras.io/optimizers).\n",
            "422/422 [==============================] - 8s 20ms/step - loss: 0.2610 - acc: 0.9030 - val_loss: 0.1739 - val_acc: 0.9369\n",
            "Epoch 2/25\n",
            "4500/4500 [==============================] - 1s 150us/sample - loss: 0.1459 - acc: 0.9533\n",
            "WARNING:tensorflow:TensorFlow optimizers do not make it possible to access optimizer attributes or optimizer state after instantiation. As a result, we cannot save the optimizer as part of the model save file.You will have to compile your model again after loading it. Prefer using a Keras optimizer instead (see keras.io/optimizers).\n",
            "422/422 [==============================] - 4s 9ms/step - loss: 0.1632 - acc: 0.9416 - val_loss: 0.1458 - val_acc: 0.9533\n",
            "Epoch 3/25\n",
            "4500/4500 [==============================] - 1s 152us/sample - loss: 0.1394 - acc: 0.9496\n",
            "422/422 [==============================] - 4s 9ms/step - loss: 0.1298 - acc: 0.9544 - val_loss: 0.1395 - val_acc: 0.9496\n",
            "Epoch 4/25\n",
            "4500/4500 [==============================] - 1s 153us/sample - loss: 0.1189 - acc: 0.9598\n",
            "WARNING:tensorflow:TensorFlow optimizers do not make it possible to access optimizer attributes or optimizer state after instantiation. As a result, we cannot save the optimizer as part of the model save file.You will have to compile your model again after loading it. Prefer using a Keras optimizer instead (see keras.io/optimizers).\n",
            "422/422 [==============================] - 4s 9ms/step - loss: 0.1192 - acc: 0.9585 - val_loss: 0.1189 - val_acc: 0.9598\n",
            "Epoch 5/25\n",
            "4500/4500 [==============================] - 1s 157us/sample - loss: 0.1103 - acc: 0.9613\n",
            "WARNING:tensorflow:TensorFlow optimizers do not make it possible to access optimizer attributes or optimizer state after instantiation. As a result, we cannot save the optimizer as part of the model save file.You will have to compile your model again after loading it. Prefer using a Keras optimizer instead (see keras.io/optimizers).\n",
            "422/422 [==============================] - 4s 10ms/step - loss: 0.1005 - acc: 0.9633 - val_loss: 0.1103 - val_acc: 0.9613\n",
            "Epoch 6/25\n",
            "4500/4500 [==============================] - 1s 151us/sample - loss: 0.1141 - acc: 0.9589\n",
            "422/422 [==============================] - 4s 9ms/step - loss: 0.0961 - acc: 0.9654 - val_loss: 0.1143 - val_acc: 0.9589\n",
            "Epoch 7/25\n",
            "4500/4500 [==============================] - 1s 145us/sample - loss: 0.1051 - acc: 0.9642\n",
            "WARNING:tensorflow:TensorFlow optimizers do not make it possible to access optimizer attributes or optimizer state after instantiation. As a result, we cannot save the optimizer as part of the model save file.You will have to compile your model again after loading it. Prefer using a Keras optimizer instead (see keras.io/optimizers).\n",
            "422/422 [==============================] - 4s 9ms/step - loss: 0.0909 - acc: 0.9676 - val_loss: 0.1049 - val_acc: 0.9642\n",
            "Epoch 8/25\n",
            "4500/4500 [==============================] - 1s 160us/sample - loss: 0.1024 - acc: 0.9629\n",
            "422/422 [==============================] - 4s 10ms/step - loss: 0.0834 - acc: 0.9713 - val_loss: 0.1025 - val_acc: 0.9629\n",
            "Epoch 9/25\n",
            "4500/4500 [==============================] - 1s 180us/sample - loss: 0.1213 - acc: 0.9653\n",
            "WARNING:tensorflow:TensorFlow optimizers do not make it possible to access optimizer attributes or optimizer state after instantiation. As a result, we cannot save the optimizer as part of the model save file.You will have to compile your model again after loading it. Prefer using a Keras optimizer instead (see keras.io/optimizers).\n",
            "422/422 [==============================] - 5s 11ms/step - loss: 0.0755 - acc: 0.9734 - val_loss: 0.1215 - val_acc: 0.9653\n",
            "Epoch 10/25\n",
            "4500/4500 [==============================] - 1s 173us/sample - loss: 0.1129 - acc: 0.9624\n",
            "422/422 [==============================] - 5s 11ms/step - loss: 0.0756 - acc: 0.9730 - val_loss: 0.1128 - val_acc: 0.9624\n",
            "Epoch 11/25\n",
            "4500/4500 [==============================] - 1s 148us/sample - loss: 0.1027 - acc: 0.9627\n",
            "422/422 [==============================] - 4s 9ms/step - loss: 0.0670 - acc: 0.9766 - val_loss: 0.1026 - val_acc: 0.9627\n",
            "Epoch 12/25\n",
            "4500/4500 [==============================] - 1s 150us/sample - loss: 0.1493 - acc: 0.9582\n",
            "422/422 [==============================] - 4s 9ms/step - loss: 0.0627 - acc: 0.9774 - val_loss: 0.1491 - val_acc: 0.9582\n",
            "Epoch 13/25\n",
            "4500/4500 [==============================] - 1s 151us/sample - loss: 0.1191 - acc: 0.9613\n",
            "422/422 [==============================] - 4s 9ms/step - loss: 0.0602 - acc: 0.9787 - val_loss: 0.1190 - val_acc: 0.9613\n",
            "Epoch 14/25\n",
            "4500/4500 [==============================] - 1s 152us/sample - loss: 0.1035 - acc: 0.9667\n",
            "WARNING:tensorflow:TensorFlow optimizers do not make it possible to access optimizer attributes or optimizer state after instantiation. As a result, we cannot save the optimizer as part of the model save file.You will have to compile your model again after loading it. Prefer using a Keras optimizer instead (see keras.io/optimizers).\n",
            "422/422 [==============================] - 4s 9ms/step - loss: 0.0607 - acc: 0.9782 - val_loss: 0.1034 - val_acc: 0.9667\n",
            "Epoch 15/25\n",
            "4500/4500 [==============================] - 1s 152us/sample - loss: 0.1413 - acc: 0.9600\n",
            "422/422 [==============================] - 4s 9ms/step - loss: 0.0561 - acc: 0.9806 - val_loss: 0.1413 - val_acc: 0.9600\n",
            "Epoch 16/25\n",
            "4500/4500 [==============================] - 1s 147us/sample - loss: 0.1434 - acc: 0.9604\n",
            "422/422 [==============================] - 4s 9ms/step - loss: 0.0475 - acc: 0.9827 - val_loss: 0.1437 - val_acc: 0.9604\n",
            "Epoch 17/25\n",
            "4500/4500 [==============================] - 1s 150us/sample - loss: 0.1201 - acc: 0.9649\n",
            "422/422 [==============================] - 4s 9ms/step - loss: 0.0502 - acc: 0.9827 - val_loss: 0.1199 - val_acc: 0.9649\n",
            "Epoch 18/25\n",
            "4500/4500 [==============================] - 1s 151us/sample - loss: 0.1145 - acc: 0.9633\n",
            "422/422 [==============================] - 4s 9ms/step - loss: 0.0478 - acc: 0.9824 - val_loss: 0.1143 - val_acc: 0.9633\n",
            "Epoch 19/25\n",
            "4500/4500 [==============================] - 1s 150us/sample - loss: 0.1209 - acc: 0.9616\n",
            "422/422 [==============================] - 4s 9ms/step - loss: 0.0472 - acc: 0.9825 - val_loss: 0.1212 - val_acc: 0.9616\n",
            "Epoch 20/25\n",
            "4500/4500 [==============================] - 1s 150us/sample - loss: 0.1208 - acc: 0.9653\n",
            "422/422 [==============================] - 4s 9ms/step - loss: 0.0418 - acc: 0.9844 - val_loss: 0.1205 - val_acc: 0.9653\n",
            "Epoch 21/25\n",
            "4500/4500 [==============================] - 1s 147us/sample - loss: 0.1195 - acc: 0.9656\n",
            "422/422 [==============================] - 4s 9ms/step - loss: 0.0417 - acc: 0.9857 - val_loss: 0.1192 - val_acc: 0.9656\n",
            "Epoch 22/25\n",
            "4500/4500 [==============================] - 1s 148us/sample - loss: 0.1208 - acc: 0.9691\n",
            "WARNING:tensorflow:TensorFlow optimizers do not make it possible to access optimizer attributes or optimizer state after instantiation. As a result, we cannot save the optimizer as part of the model save file.You will have to compile your model again after loading it. Prefer using a Keras optimizer instead (see keras.io/optimizers).\n",
            "422/422 [==============================] - 4s 9ms/step - loss: 0.0367 - acc: 0.9877 - val_loss: 0.1205 - val_acc: 0.9691\n",
            "Epoch 23/25\n",
            "4500/4500 [==============================] - 1s 151us/sample - loss: 0.1291 - acc: 0.9662\n",
            "422/422 [==============================] - 4s 9ms/step - loss: 0.0371 - acc: 0.9866 - val_loss: 0.1291 - val_acc: 0.9662\n",
            "Epoch 24/25\n",
            "4500/4500 [==============================] - 1s 150us/sample - loss: 0.1355 - acc: 0.9671\n",
            "422/422 [==============================] - 4s 9ms/step - loss: 0.0356 - acc: 0.9873 - val_loss: 0.1352 - val_acc: 0.9671\n",
            "Epoch 25/25\n",
            "4500/4500 [==============================] - 1s 152us/sample - loss: 0.1378 - acc: 0.9633\n",
            "422/422 [==============================] - 4s 9ms/step - loss: 0.0331 - acc: 0.9881 - val_loss: 0.1375 - val_acc: 0.9633\n",
            "WARNING:tensorflow:No training configuration found in save file: the model was *not* compiled. Compile it manually.\n",
            "3000/3000 [==============================] - 1s 274us/sample - loss: 0.1059 - acc: 0.9697\n",
            "['loss', 'acc']\n",
            "[0.10585392540258666, 0.96966666]\n",
            "time: 1min 58s\n"
          ],
          "name": "stdout"
        }
      ]
    },
    {
      "cell_type": "markdown",
      "metadata": {
        "id": "SxyoXzBAMmWu",
        "colab_type": "text"
      },
      "source": [
        "### Combining Individual Classifiers"
      ]
    },
    {
      "cell_type": "code",
      "metadata": {
        "id": "I8wVAOirMhXz",
        "colab_type": "code",
        "outputId": "2f37b9af-efc5-47c2-b3dc-f5cf67b61f51",
        "colab": {
          "base_uri": "https://localhost:8080/",
          "height": 35
        }
      },
      "source": [
        "from sklearn.metrics import accuracy_score\n",
        "from scipy.special import softmax\n",
        "\n",
        "def predict(x):\n",
        "  y_root = root.predict(x)\n",
        "  y_shoes = shoes.predict(x)\n",
        "  y_cloth = cloth.predict(x)\n",
        "  \n",
        "  y_pred = []\n",
        "  for (y_r, y_s, y_c) in zip(y_root, y_shoes, y_cloth):\n",
        "    # Normalize Predictions\n",
        "    y_r = softmax(y_r)\n",
        "    y_c = softmax(y_c)\n",
        "    y_s = softmax(y_s)\n",
        "    \n",
        "    y = np.zeros(num_classes)\n",
        "    y[8] = y_r[Class_dict[8]]\n",
        "    \n",
        "    for i in Class_groups[0]:\n",
        "      y[i] = y_r[0] * y_c[Cloth_dict[i]]\n",
        "      \n",
        "    for i in Class_groups[1]:\n",
        "      y[i] = y_r[1] * y_s[Shoes_dict[i]]\n",
        "       \n",
        "    y_pred.append(y)\n",
        " \n",
        "  return y_pred\n",
        "    \n",
        "y_pred = predict(X_test)\n",
        "y_labels = [np.argmax(pred) for pred in y_pred]\n",
        "\n",
        "accuracy_score(y_test, y_labels)"
      ],
      "execution_count": 0,
      "outputs": [
        {
          "output_type": "execute_result",
          "data": {
            "text/plain": [
              "0.9113"
            ]
          },
          "metadata": {
            "tags": []
          },
          "execution_count": 31
        },
        {
          "output_type": "stream",
          "text": [
            "time: 3.98 s\n"
          ],
          "name": "stdout"
        }
      ]
    },
    {
      "cell_type": "markdown",
      "metadata": {
        "id": "vy3yTqUrrpBi",
        "colab_type": "text"
      },
      "source": [
        "# Mixing Classifiers"
      ]
    },
    {
      "cell_type": "code",
      "metadata": {
        "id": "5F9TsHTarunX",
        "colab_type": "code",
        "colab": {}
      },
      "source": [
        "# Root classifier\n",
        "Class_groups = [[0, 2, 3, 4, 6], [1], [5, 7, 9], [8]]\n",
        "Class_dict = buildClassDict(Class_groups)\n",
        "\n",
        "remapped_x_train, remapped_y_train = remapAndFilter(X_train, y_train, Class_dict, Class_groups)\n",
        "remapped_x_test, remapped_y_test = remapAndFilter(X_test, y_test, Class_dict, Class_groups)\n",
        "\n",
        "model = keras.Sequential([\n",
        "    keras.layers.Conv2D(16, (3, 3), activation='relu', input_shape=remapped_x_train[0].shape),\n",
        "    keras.layers.BatchNormalization(momentum=0.1),\n",
        "    keras.layers.MaxPool2D((2, 2)),\n",
        "\n",
        "    keras.layers.Conv2D(32, (3, 3), activation='relu'),\n",
        "    keras.layers.MaxPool2D((2, 2)),\n",
        "\n",
        "    keras.layers.Flatten(),\n",
        "    keras.layers.Dense(32, activation='relu'),\n",
        "    keras.layers.Dense(remapped_y_train[0].shape[0]),\n",
        "]);\n",
        "\n",
        "root = build_and_train(remapped_x_train, remapped_y_train, model, 5)\n",
        "\n",
        "# Evaluate model\n",
        "results = root.evaluate(remapped_x_test, remapped_y_test)\n",
        "print(root.metrics_names)\n",
        "print(results)"
      ],
      "execution_count": 0,
      "outputs": []
    },
    {
      "cell_type": "code",
      "metadata": {
        "id": "k22ygYN9uDo2",
        "colab_type": "code",
        "colab": {}
      },
      "source": [
        "# Cloth classifier\n",
        "Cloth_groups = [[0], [2], [3], [4], [6]]\n",
        "Cloth_dict = buildClassDict(Cloth_groups)\n",
        "\n",
        "remapped_x_train, remapped_y_train = remapAndFilter(X_train, y_train, Cloth_dict, Cloth_groups)\n",
        "remapped_x_test, remapped_y_test = remapAndFilter(X_test, y_test, Cloth_dict, Cloth_groups)\n",
        "\n",
        "model = keras.Sequential([\n",
        "    keras.layers.Conv2D(32, (3, 3), activation='relu', input_shape=remapped_x_train[0].shape),\n",
        "    keras.layers.Conv2D(32, (3, 3), activation='relu'),\n",
        "    keras.layers.BatchNormalization(),\n",
        "    keras.layers.MaxPool2D((2, 2)),\n",
        "\n",
        "    keras.layers.Conv2D(128, (3, 3), activation='relu'),\n",
        "    keras.layers.MaxPool2D((2, 2)),\n",
        "\n",
        "    keras.layers.Flatten(),\n",
        "    keras.layers.Dense(128, activation='relu'),\n",
        "    keras.layers.Dropout(rate=0.25),\n",
        "    keras.layers.Dense(64, activation='relu'),\n",
        "    keras.layers.Dense(remapped_y_train[0].shape[0]),\n",
        "]);\n",
        "\n",
        "cloth = build_and_train(remapped_x_train, remapped_y_train, model, 20)\n",
        "\n",
        "# Evaluate model\n",
        "results = cloth.evaluate(remapped_x_test, remapped_y_test)\n",
        "print(cloth.metrics_names)\n",
        "print(results)"
      ],
      "execution_count": 0,
      "outputs": []
    },
    {
      "cell_type": "code",
      "metadata": {
        "id": "7ZEKFkEY8WBR",
        "colab_type": "code",
        "colab": {}
      },
      "source": [
        "# Shoe classifier\n",
        "Shoes_groups = [[5], [7], [9]]\n",
        "Shoes_dict = buildClassDict(Shoes_groups)\n",
        "\n",
        "remapped_x_train, remapped_y_train = remapAndFilter(X_train, y_train, Shoes_dict, Shoes_groups)\n",
        "remapped_x_test, remapped_y_test = remapAndFilter(X_test, y_test, Shoes_dict, Shoes_groups)\n",
        "\n",
        "\n",
        "model = keras.Sequential([\n",
        "    keras.layers.Conv2D(32, (3, 3), activation='relu', input_shape=remapped_x_train[0].shape),\n",
        "    keras.layers.BatchNormalization(),\n",
        "    keras.layers.MaxPool2D((2, 2)),\n",
        "\n",
        "    keras.layers.Conv2D(128, (3, 3), activation='relu'),\n",
        "    keras.layers.MaxPool2D((2, 2)),\n",
        "\n",
        "    keras.layers.Flatten(),\n",
        "    keras.layers.Dense(64, activation='relu'),\n",
        "    keras.layers.Dense(remapped_y_train[0].shape[0]),\n",
        "]);\n",
        "\n",
        "shoes = build_and_train(remapped_x_train, remapped_y_train, model, 10)\n",
        "\n",
        "# Evaluate model\n",
        "results = shoes.evaluate(remapped_x_test, remapped_y_test)\n",
        "print(shoes.metrics_names)\n",
        "print(results)"
      ],
      "execution_count": 0,
      "outputs": []
    }
  ]
}